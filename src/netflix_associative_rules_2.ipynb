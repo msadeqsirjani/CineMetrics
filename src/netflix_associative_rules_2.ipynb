{
 "cells": [
  {
   "cell_type": "code",
   "execution_count": 21,
   "metadata": {},
   "outputs": [],
   "source": [
    "import pandas as pd\n",
    "import numpy as np\n",
    "from mlxtend.preprocessing import TransactionEncoder\n",
    "from mlxtend.frequent_patterns import apriori, association_rules"
   ]
  },
  {
   "cell_type": "code",
   "execution_count": 22,
   "metadata": {},
   "outputs": [
    {
     "data": {
      "text/html": [
       "<div>\n",
       "<style scoped>\n",
       "    .dataframe tbody tr th:only-of-type {\n",
       "        vertical-align: middle;\n",
       "    }\n",
       "\n",
       "    .dataframe tbody tr th {\n",
       "        vertical-align: top;\n",
       "    }\n",
       "\n",
       "    .dataframe thead th {\n",
       "        text-align: right;\n",
       "    }\n",
       "</style>\n",
       "<table border=\"1\" class=\"dataframe\">\n",
       "  <thead>\n",
       "    <tr style=\"text-align: right;\">\n",
       "      <th></th>\n",
       "      <th>Unnamed: 0</th>\n",
       "      <th>show_id</th>\n",
       "      <th>type</th>\n",
       "      <th>title</th>\n",
       "      <th>director</th>\n",
       "      <th>cast</th>\n",
       "      <th>country</th>\n",
       "      <th>date_added</th>\n",
       "      <th>release_year</th>\n",
       "      <th>rating</th>\n",
       "      <th>duration</th>\n",
       "      <th>listed_in</th>\n",
       "      <th>description</th>\n",
       "      <th>day_added</th>\n",
       "      <th>year_added</th>\n",
       "      <th>month_added</th>\n",
       "    </tr>\n",
       "  </thead>\n",
       "  <tbody>\n",
       "    <tr>\n",
       "      <th>0</th>\n",
       "      <td>0</td>\n",
       "      <td>s1</td>\n",
       "      <td>Movie</td>\n",
       "      <td>Dick Johnson Is Dead</td>\n",
       "      <td>Kirsten Johnson</td>\n",
       "      <td>No Cast</td>\n",
       "      <td>United States</td>\n",
       "      <td>2021-09-25</td>\n",
       "      <td>2020</td>\n",
       "      <td>PG-13</td>\n",
       "      <td>90 min</td>\n",
       "      <td>Documentaries</td>\n",
       "      <td>As her father nears the end of his life, filmm...</td>\n",
       "      <td>25</td>\n",
       "      <td>2021</td>\n",
       "      <td>9</td>\n",
       "    </tr>\n",
       "    <tr>\n",
       "      <th>1</th>\n",
       "      <td>1</td>\n",
       "      <td>s2</td>\n",
       "      <td>TV Show</td>\n",
       "      <td>Blood &amp; Water</td>\n",
       "      <td>No Director</td>\n",
       "      <td>Ama Qamata, Khosi Ngema, Gail Mabalane, Thaban...</td>\n",
       "      <td>South Africa</td>\n",
       "      <td>2021-09-24</td>\n",
       "      <td>2021</td>\n",
       "      <td>TV-MA</td>\n",
       "      <td>2 Seasons</td>\n",
       "      <td>International TV Shows, TV Dramas, TV Mysteries</td>\n",
       "      <td>After crossing paths at a party, a Cape Town t...</td>\n",
       "      <td>24</td>\n",
       "      <td>2021</td>\n",
       "      <td>9</td>\n",
       "    </tr>\n",
       "    <tr>\n",
       "      <th>2</th>\n",
       "      <td>2</td>\n",
       "      <td>s3</td>\n",
       "      <td>TV Show</td>\n",
       "      <td>Ganglands</td>\n",
       "      <td>Julien Leclercq</td>\n",
       "      <td>Sami Bouajila, Tracy Gotoas, Samuel Jouy, Nabi...</td>\n",
       "      <td>No Country</td>\n",
       "      <td>2021-09-24</td>\n",
       "      <td>2021</td>\n",
       "      <td>TV-MA</td>\n",
       "      <td>1 Season</td>\n",
       "      <td>Crime TV Shows, International TV Shows, TV Act...</td>\n",
       "      <td>To protect his family from a powerful drug lor...</td>\n",
       "      <td>24</td>\n",
       "      <td>2021</td>\n",
       "      <td>9</td>\n",
       "    </tr>\n",
       "    <tr>\n",
       "      <th>3</th>\n",
       "      <td>3</td>\n",
       "      <td>s4</td>\n",
       "      <td>TV Show</td>\n",
       "      <td>Jailbirds New Orleans</td>\n",
       "      <td>No Director</td>\n",
       "      <td>No Cast</td>\n",
       "      <td>No Country</td>\n",
       "      <td>2021-09-24</td>\n",
       "      <td>2021</td>\n",
       "      <td>TV-MA</td>\n",
       "      <td>1 Season</td>\n",
       "      <td>Docuseries, Reality TV</td>\n",
       "      <td>Feuds, flirtations and toilet talk go down amo...</td>\n",
       "      <td>24</td>\n",
       "      <td>2021</td>\n",
       "      <td>9</td>\n",
       "    </tr>\n",
       "    <tr>\n",
       "      <th>4</th>\n",
       "      <td>4</td>\n",
       "      <td>s5</td>\n",
       "      <td>TV Show</td>\n",
       "      <td>Kota Factory</td>\n",
       "      <td>No Director</td>\n",
       "      <td>Mayur More, Jitendra Kumar, Ranjan Raj, Alam K...</td>\n",
       "      <td>India</td>\n",
       "      <td>2021-09-24</td>\n",
       "      <td>2021</td>\n",
       "      <td>TV-MA</td>\n",
       "      <td>2 Seasons</td>\n",
       "      <td>International TV Shows, Romantic TV Shows, TV ...</td>\n",
       "      <td>In a city of coaching centers known to train I...</td>\n",
       "      <td>24</td>\n",
       "      <td>2021</td>\n",
       "      <td>9</td>\n",
       "    </tr>\n",
       "  </tbody>\n",
       "</table>\n",
       "</div>"
      ],
      "text/plain": [
       "   Unnamed: 0 show_id     type                  title         director  \\\n",
       "0           0      s1    Movie   Dick Johnson Is Dead  Kirsten Johnson   \n",
       "1           1      s2  TV Show          Blood & Water      No Director   \n",
       "2           2      s3  TV Show              Ganglands  Julien Leclercq   \n",
       "3           3      s4  TV Show  Jailbirds New Orleans      No Director   \n",
       "4           4      s5  TV Show           Kota Factory      No Director   \n",
       "\n",
       "                                                cast        country  \\\n",
       "0                                            No Cast  United States   \n",
       "1  Ama Qamata, Khosi Ngema, Gail Mabalane, Thaban...   South Africa   \n",
       "2  Sami Bouajila, Tracy Gotoas, Samuel Jouy, Nabi...     No Country   \n",
       "3                                            No Cast     No Country   \n",
       "4  Mayur More, Jitendra Kumar, Ranjan Raj, Alam K...          India   \n",
       "\n",
       "   date_added  release_year rating   duration  \\\n",
       "0  2021-09-25          2020  PG-13     90 min   \n",
       "1  2021-09-24          2021  TV-MA  2 Seasons   \n",
       "2  2021-09-24          2021  TV-MA   1 Season   \n",
       "3  2021-09-24          2021  TV-MA   1 Season   \n",
       "4  2021-09-24          2021  TV-MA  2 Seasons   \n",
       "\n",
       "                                           listed_in  \\\n",
       "0                                      Documentaries   \n",
       "1    International TV Shows, TV Dramas, TV Mysteries   \n",
       "2  Crime TV Shows, International TV Shows, TV Act...   \n",
       "3                             Docuseries, Reality TV   \n",
       "4  International TV Shows, Romantic TV Shows, TV ...   \n",
       "\n",
       "                                         description  day_added  year_added  \\\n",
       "0  As her father nears the end of his life, filmm...         25        2021   \n",
       "1  After crossing paths at a party, a Cape Town t...         24        2021   \n",
       "2  To protect his family from a powerful drug lor...         24        2021   \n",
       "3  Feuds, flirtations and toilet talk go down amo...         24        2021   \n",
       "4  In a city of coaching centers known to train I...         24        2021   \n",
       "\n",
       "   month_added  \n",
       "0            9  \n",
       "1            9  \n",
       "2            9  \n",
       "3            9  \n",
       "4            9  "
      ]
     },
     "execution_count": 22,
     "metadata": {},
     "output_type": "execute_result"
    }
   ],
   "source": [
    "netflix_df = pd.read_csv('../data/netflix-pre-processed.csv')\n",
    "netflix_df.head()"
   ]
  },
  {
   "cell_type": "code",
   "execution_count": 23,
   "metadata": {},
   "outputs": [
    {
     "data": {
      "text/plain": [
       "(8790, 16)"
      ]
     },
     "execution_count": 23,
     "metadata": {},
     "output_type": "execute_result"
    }
   ],
   "source": [
    "netflix_df.shape"
   ]
  },
  {
   "cell_type": "code",
   "execution_count": 24,
   "metadata": {},
   "outputs": [
    {
     "data": {
      "text/plain": [
       "Index(['Unnamed: 0', 'show_id', 'type', 'title', 'director', 'cast', 'country',\n",
       "       'date_added', 'release_year', 'rating', 'duration', 'listed_in',\n",
       "       'description', 'day_added', 'year_added', 'month_added'],\n",
       "      dtype='object')"
      ]
     },
     "execution_count": 24,
     "metadata": {},
     "output_type": "execute_result"
    }
   ],
   "source": [
    "netflix_df.columns"
   ]
  },
  {
   "cell_type": "code",
   "execution_count": 25,
   "metadata": {},
   "outputs": [],
   "source": [
    "# Filter the DataFrame to only include movies\n",
    "movies_df = netflix_df[netflix_df['type'] == 'Movie']"
   ]
  },
  {
   "cell_type": "code",
   "execution_count": 26,
   "metadata": {},
   "outputs": [],
   "source": [
    "# Split the director and cast columns into separate rows for each director and cast member\n",
    "directors_df = movies_df.assign(director=movies_df['director'].str.split(',')).explode('director')\n",
    "cast_df = directors_df.assign(cast=directors_df['cast'].str.split(',')).explode('cast')"
   ]
  },
  {
   "cell_type": "code",
   "execution_count": 27,
   "metadata": {},
   "outputs": [],
   "source": [
    "# Convert the listed_in column into a list of genres\n",
    "genres_df = cast_df.assign(listed_in=cast_df['listed_in'].str.split(',')).explode('listed_in')\n",
    "genres_df['listed_in'] = genres_df['listed_in'].str.strip()"
   ]
  },
  {
   "cell_type": "code",
   "execution_count": 28,
   "metadata": {},
   "outputs": [],
   "source": [
    "# Convert the DataFrame into a list of transactions\n",
    "transactions = genres_df.groupby(['director', 'cast'])['listed_in'].apply(list).reset_index(name='genres')"
   ]
  },
  {
   "cell_type": "code",
   "execution_count": 29,
   "metadata": {},
   "outputs": [],
   "source": [
    "# Convert the list of transactions into a one-hot encoded format\n",
    "te = TransactionEncoder()\n",
    "te_ary = te.fit(transactions['genres']).transform(transactions['genres'])\n",
    "df = pd.DataFrame(te_ary, columns=te.columns_)"
   ]
  },
  {
   "cell_type": "code",
   "execution_count": 30,
   "metadata": {},
   "outputs": [],
   "source": [
    "# Find frequent itemsets with a minimum support of 0.01\n",
    "frequent_itemsets = apriori(df, min_support=0.01, use_colnames=True)"
   ]
  },
  {
   "cell_type": "code",
   "execution_count": 31,
   "metadata": {},
   "outputs": [],
   "source": [
    "# Generate association rules with a minimum confidence of 0.5\n",
    "association_rules = association_rules(frequent_itemsets, metric='confidence', min_threshold=0.5)"
   ]
  },
  {
   "cell_type": "code",
   "execution_count": 32,
   "metadata": {},
   "outputs": [
    {
     "name": "stdout",
     "output_type": "stream",
     "text": [
      "                                   antecedents             consequents  \\\n",
      "0                             (Anime Features)    (Action & Adventure)   \n",
      "1                           (Sci-Fi & Fantasy)    (Action & Adventure)   \n",
      "2                             (Classic Movies)                (Dramas)   \n",
      "3                         (Independent Movies)                (Dramas)   \n",
      "4                                     (Dramas)  (International Movies)   \n",
      "5                       (International Movies)                (Dramas)   \n",
      "6                              (Sports Movies)                (Dramas)   \n",
      "7                           (Music & Musicals)  (International Movies)   \n",
      "8                            (Romantic Movies)  (International Movies)   \n",
      "9                 (Action & Adventure, Dramas)  (International Movies)   \n",
      "10              (Comedies, Independent Movies)                (Dramas)   \n",
      "11                          (Comedies, Dramas)  (International Movies)   \n",
      "12                (Comedies, Music & Musicals)  (International Movies)   \n",
      "13  (Independent Movies, International Movies)                (Dramas)   \n",
      "14                  (Dramas, Music & Musicals)  (International Movies)   \n",
      "15                   (Dramas, Romantic Movies)  (International Movies)   \n",
      "16                         (Thrillers, Dramas)  (International Movies)   \n",
      "17           (Thrillers, International Movies)                (Dramas)   \n",
      "\n",
      "    antecedent support  consequent support   support  confidence      lift  \\\n",
      "0             0.015627            0.173883  0.010587    0.677463  3.896089   \n",
      "1             0.053483            0.173883  0.030812    0.576104  3.313175   \n",
      "2             0.022207            0.452770  0.011641    0.524217  1.157798   \n",
      "3             0.148976            0.452770  0.113208    0.759909  1.678356   \n",
      "4             0.452770            0.444777  0.262754    0.580325  1.304755   \n",
      "5             0.444777            0.452770  0.262754    0.590754  1.304755   \n",
      "6             0.026341            0.452770  0.013856    0.526021  1.161783   \n",
      "7             0.053841            0.444777  0.027733    0.515080  1.158064   \n",
      "8             0.112428            0.444777  0.063416    0.564059  1.268184   \n",
      "9             0.044815            0.444777  0.023747    0.529882  1.191343   \n",
      "10            0.042685            0.452770  0.024590    0.576087  1.272361   \n",
      "11            0.098551            0.444777  0.051395    0.521507  1.172512   \n",
      "12            0.020035            0.444777  0.010439    0.521053  1.171491   \n",
      "13            0.052576            0.452770  0.045089    0.857601  1.894121   \n",
      "14            0.016049            0.444777  0.010376    0.646518  1.453577   \n",
      "15            0.055423            0.444777  0.031423    0.566971  1.274731   \n",
      "16            0.048759            0.444777  0.025096    0.514706  1.157222   \n",
      "17            0.046291            0.452770  0.025096    0.542141  1.197387   \n",
      "\n",
      "    leverage  conviction  zhangs_metric  \n",
      "0   0.007870    2.561309       0.755133  \n",
      "1   0.021512    1.948868       0.737625  \n",
      "2   0.001587    1.150166       0.139387  \n",
      "3   0.045756    2.279264       0.474932  \n",
      "4   0.061372    1.322983       0.426827  \n",
      "5   0.061372    1.337166       0.420682  \n",
      "6   0.001929    1.154544       0.143022  \n",
      "7   0.003785    1.144979       0.144257  \n",
      "8   0.013411    1.273620       0.238258  \n",
      "9   0.003814    1.181030       0.168147  \n",
      "10  0.005264    1.290901       0.223604  \n",
      "11  0.007562    1.160356       0.163215  \n",
      "12  0.001528    1.159256       0.149380  \n",
      "13  0.021284    3.842941       0.498246  \n",
      "14  0.003238    1.570723       0.317131  \n",
      "15  0.006772    1.282184       0.228166  \n",
      "16  0.003410    1.144095       0.142825  \n",
      "17  0.004137    1.195194       0.172850  \n"
     ]
    }
   ],
   "source": [
    "# Print the association rules\n",
    "print(association_rules)"
   ]
  }
 ],
 "metadata": {
  "kernelspec": {
   "display_name": "venv",
   "language": "python",
   "name": "python3"
  },
  "language_info": {
   "codemirror_mode": {
    "name": "ipython",
    "version": 3
   },
   "file_extension": ".py",
   "mimetype": "text/x-python",
   "name": "python",
   "nbconvert_exporter": "python",
   "pygments_lexer": "ipython3",
   "version": "3.9.8"
  },
  "orig_nbformat": 4
 },
 "nbformat": 4,
 "nbformat_minor": 2
}

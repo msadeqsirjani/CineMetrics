{
    "cells": [
        {
            "cell_type": "code",
            "execution_count": 86,
            "metadata": {},
            "outputs": [],
            "source": [
                "import pandas as pd\n",
                "import nltk\n",
                "from nltk.corpus import stopwords\n",
                "from sklearn.model_selection import train_test_split, GridSearchCV\n",
                "from sklearn.feature_extraction.text import CountVectorizer, TfidfVectorizer\n",
                "from sklearn.naive_bayes import MultinomialNB\n",
                "from imblearn.over_sampling import RandomOverSampler\n",
                "from sklearn.metrics import accuracy_score, precision_score, recall_score, f1_score, classification_report, confusion_matrix"
            ]
        },
        {
            "cell_type": "code",
            "execution_count": 87,
            "metadata": {},
            "outputs": [],
            "source": [
                "# Load the Netflix dataset into a DataFrame\n",
                "netflix_df = pd.read_csv('../data/netflix-pre-processed.csv')"
            ]
        },
        {
            "cell_type": "code",
            "execution_count": 88,
            "metadata": {},
            "outputs": [],
            "source": [
                "# Filter the DataFrame to only include movies\n",
                "movies_df = netflix_df[netflix_df['type'] == 'Movie']"
            ]
        },
        {
            "cell_type": "code",
            "execution_count": 89,
            "metadata": {},
            "outputs": [
                {
                    "name": "stderr",
                    "output_type": "stream",
                    "text": [
                        "C:\\Users\\SQ-PC\\AppData\\Local\\Temp\\ipykernel_1212\\2665758445.py:2: SettingWithCopyWarning: \n",
                        "A value is trying to be set on a copy of a slice from a DataFrame.\n",
                        "Try using .loc[row_indexer,col_indexer] = value instead\n",
                        "\n",
                        "See the caveats in the documentation: https://pandas.pydata.org/pandas-docs/stable/user_guide/indexing.html#returning-a-view-versus-a-copy\n",
                        "  movies_df['listed_in'] = movies_df['listed_in'].str.replace('[\\[\\]]', '')\n"
                    ]
                }
            ],
            "source": [
                "# Replace \"[\" and \"]\" characters in the \"listed_in\" column with empty strings\n",
                "movies_df['listed_in'] = movies_df['listed_in'].str.replace('[\\[\\]]', '')"
            ]
        },
        {
            "cell_type": "code",
            "execution_count": 90,
            "metadata": {},
            "outputs": [],
            "source": [
                "# Split the \"listed_in\" column into separate rows for each genre\n",
                "genres_df = movies_df.assign(listed_in=movies_df['listed_in'].str.split(',')).explode('listed_in')"
            ]
        },
        {
            "cell_type": "code",
            "execution_count": 91,
            "metadata": {},
            "outputs": [
                {
                    "name": "stderr",
                    "output_type": "stream",
                    "text": [
                        "[nltk_data] Downloading package stopwords to C:\\Users\\SQ-\n",
                        "[nltk_data]     PC/nltk_data...\n",
                        "[nltk_data]   Package stopwords is already up-to-date!\n"
                    ]
                }
            ],
            "source": [
                "# Define the stopwords for English\n",
                "nltk.download('stopwords')\n",
                "stopwords = stopwords.words('english')"
            ]
        },
        {
            "cell_type": "code",
            "execution_count": 92,
            "metadata": {},
            "outputs": [],
            "source": [
                "# Preprocess the text data\n",
                "genres_df['description'] = genres_df['description'].str.lower()\n",
                "genres_df['description'] = genres_df['description'].str.replace('[^\\w\\s]','')\n",
                "genres_df['description'] = genres_df['description'].str.replace('\\d+', '')\n",
                "genres_df['description'] = genres_df['description'].apply(lambda x: ' '.join([word for word in x.split() if word not in (stopwords)]))\n"
            ]
        },
        {
            "cell_type": "code",
            "execution_count": 93,
            "metadata": {},
            "outputs": [],
            "source": [
                "# Split the dataset into training and testing sets\n",
                "X_train, X_test, y_train, y_test = train_test_split(genres_df['description'], genres_df['listed_in'], test_size=0.2, random_state=42)"
            ]
        },
        {
            "cell_type": "code",
            "execution_count": 94,
            "metadata": {},
            "outputs": [],
            "source": [
                "# Create a TF-IDF representation of the text data\n",
                "vectorizer = TfidfVectorizer()\n",
                "X_train_tfidf = vectorizer.fit_transform(X_train)\n",
                "X_test_tfidf = vectorizer.transform(X_test)"
            ]
        },
        {
            "cell_type": "code",
            "execution_count": 95,
            "metadata": {},
            "outputs": [
                {
                    "data": {
                        "text/html": [
                            "<style>#sk-container-id-5 {color: black;background-color: white;}#sk-container-id-5 pre{padding: 0;}#sk-container-id-5 div.sk-toggleable {background-color: white;}#sk-container-id-5 label.sk-toggleable__label {cursor: pointer;display: block;width: 100%;margin-bottom: 0;padding: 0.3em;box-sizing: border-box;text-align: center;}#sk-container-id-5 label.sk-toggleable__label-arrow:before {content: \"▸\";float: left;margin-right: 0.25em;color: #696969;}#sk-container-id-5 label.sk-toggleable__label-arrow:hover:before {color: black;}#sk-container-id-5 div.sk-estimator:hover label.sk-toggleable__label-arrow:before {color: black;}#sk-container-id-5 div.sk-toggleable__content {max-height: 0;max-width: 0;overflow: hidden;text-align: left;background-color: #f0f8ff;}#sk-container-id-5 div.sk-toggleable__content pre {margin: 0.2em;color: black;border-radius: 0.25em;background-color: #f0f8ff;}#sk-container-id-5 input.sk-toggleable__control:checked~div.sk-toggleable__content {max-height: 200px;max-width: 100%;overflow: auto;}#sk-container-id-5 input.sk-toggleable__control:checked~label.sk-toggleable__label-arrow:before {content: \"▾\";}#sk-container-id-5 div.sk-estimator input.sk-toggleable__control:checked~label.sk-toggleable__label {background-color: #d4ebff;}#sk-container-id-5 div.sk-label input.sk-toggleable__control:checked~label.sk-toggleable__label {background-color: #d4ebff;}#sk-container-id-5 input.sk-hidden--visually {border: 0;clip: rect(1px 1px 1px 1px);clip: rect(1px, 1px, 1px, 1px);height: 1px;margin: -1px;overflow: hidden;padding: 0;position: absolute;width: 1px;}#sk-container-id-5 div.sk-estimator {font-family: monospace;background-color: #f0f8ff;border: 1px dotted black;border-radius: 0.25em;box-sizing: border-box;margin-bottom: 0.5em;}#sk-container-id-5 div.sk-estimator:hover {background-color: #d4ebff;}#sk-container-id-5 div.sk-parallel-item::after {content: \"\";width: 100%;border-bottom: 1px solid gray;flex-grow: 1;}#sk-container-id-5 div.sk-label:hover label.sk-toggleable__label {background-color: #d4ebff;}#sk-container-id-5 div.sk-serial::before {content: \"\";position: absolute;border-left: 1px solid gray;box-sizing: border-box;top: 0;bottom: 0;left: 50%;z-index: 0;}#sk-container-id-5 div.sk-serial {display: flex;flex-direction: column;align-items: center;background-color: white;padding-right: 0.2em;padding-left: 0.2em;position: relative;}#sk-container-id-5 div.sk-item {position: relative;z-index: 1;}#sk-container-id-5 div.sk-parallel {display: flex;align-items: stretch;justify-content: center;background-color: white;position: relative;}#sk-container-id-5 div.sk-item::before, #sk-container-id-5 div.sk-parallel-item::before {content: \"\";position: absolute;border-left: 1px solid gray;box-sizing: border-box;top: 0;bottom: 0;left: 50%;z-index: -1;}#sk-container-id-5 div.sk-parallel-item {display: flex;flex-direction: column;z-index: 1;position: relative;background-color: white;}#sk-container-id-5 div.sk-parallel-item:first-child::after {align-self: flex-end;width: 50%;}#sk-container-id-5 div.sk-parallel-item:last-child::after {align-self: flex-start;width: 50%;}#sk-container-id-5 div.sk-parallel-item:only-child::after {width: 0;}#sk-container-id-5 div.sk-dashed-wrapped {border: 1px dashed gray;margin: 0 0.4em 0.5em 0.4em;box-sizing: border-box;padding-bottom: 0.4em;background-color: white;}#sk-container-id-5 div.sk-label label {font-family: monospace;font-weight: bold;display: inline-block;line-height: 1.2em;}#sk-container-id-5 div.sk-label-container {text-align: center;}#sk-container-id-5 div.sk-container {/* jupyter's `normalize.less` sets `[hidden] { display: none; }` but bootstrap.min.css set `[hidden] { display: none !important; }` so we also need the `!important` here to be able to override the default hidden behavior on the sphinx rendered scikit-learn.org. See: https://github.com/scikit-learn/scikit-learn/issues/21755 */display: inline-block !important;position: relative;}#sk-container-id-5 div.sk-text-repr-fallback {display: none;}</style><div id=\"sk-container-id-5\" class=\"sk-top-container\"><div class=\"sk-text-repr-fallback\"><pre>MultinomialNB()</pre><b>In a Jupyter environment, please rerun this cell to show the HTML representation or trust the notebook. <br />On GitHub, the HTML representation is unable to render, please try loading this page with nbviewer.org.</b></div><div class=\"sk-container\" hidden><div class=\"sk-item\"><div class=\"sk-estimator sk-toggleable\"><input class=\"sk-toggleable__control sk-hidden--visually\" id=\"sk-estimator-id-5\" type=\"checkbox\" checked><label for=\"sk-estimator-id-5\" class=\"sk-toggleable__label sk-toggleable__label-arrow\">MultinomialNB</label><div class=\"sk-toggleable__content\"><pre>MultinomialNB()</pre></div></div></div></div></div>"
                        ],
                        "text/plain": [
                            "MultinomialNB()"
                        ]
                    },
                    "execution_count": 95,
                    "metadata": {},
                    "output_type": "execute_result"
                }
            ],
            "source": [
                "# Train a Naive Bayes classifier on the TF-IDF representation\n",
                "clf = MultinomialNB()\n",
                "clf.fit(X_train_tfidf, y_train)"
            ]
        },
        {
            "cell_type": "code",
            "execution_count": 96,
            "metadata": {},
            "outputs": [
                {
                    "name": "stdout",
                    "output_type": "stream",
                    "text": [
                        "Accuracy: 0.1751990898748578\n",
                        "Precision: 0.05254951936484809\n",
                        "Recall: 0.031622654046354434\n",
                        "F1 score: 0.01786296541172713\n"
                    ]
                },
                {
                    "name": "stderr",
                    "output_type": "stream",
                    "text": [
                        "c:\\Users\\SQ-PC\\Desktop\\NETFLIX\\venv\\lib\\site-packages\\sklearn\\metrics\\_classification.py:1344: UndefinedMetricWarning: Precision is ill-defined and being set to 0.0 in labels with no predicted samples. Use `zero_division` parameter to control this behavior.\n",
                        "  _warn_prf(average, modifier, msg_start, len(result))\n"
                    ]
                }
            ],
            "source": [
                "# Evaluate the performance of the trained model on the testing set\n",
                "# y_pred = clf.predict(X_test_counts)\n",
                "y_pred = clf.predict(X_test_tfidf)\n",
                "print('Accuracy:', accuracy_score(y_test, y_pred))\n",
                "print('Precision:', precision_score(y_test, y_pred, average='macro'))\n",
                "print('Recall:', recall_score(y_test, y_pred, average='macro'))\n",
                "print('F1 score:', f1_score(y_test, y_pred, average='macro'))"
            ]
        },
        {
            "cell_type": "code",
            "execution_count": 98,
            "metadata": {},
            "outputs": [
                {
                    "name": "stdout",
                    "output_type": "stream",
                    "text": [
                        "New movie predictions: [' International Movies' ' International Movies']\n"
                    ]
                }
            ],
            "source": [
                "# # Use the trained model to predict the genre of new movies based on their descriptions\n",
                "new_movie_descriptions = ['A young woman becomes the fourth wife of a wealthy lord in 19th century China.',\n",
                "                          'A young boy befriends a giant robot from outer space and embarks on a series of adventures.']\n",
                "new_movie_counts = vectorizer.transform(new_movie_descriptions)\n",
                "new_movie_predictions = clf.predict(new_movie_counts)\n",
                "print('New movie predictions:', new_movie_predictions)"
            ]
        },
        {
            "cell_type": "code",
            "execution_count": 101,
            "metadata": {},
            "outputs": [
                {
                    "name": "stderr",
                    "output_type": "stream",
                    "text": [
                        "c:\\Users\\SQ-PC\\Desktop\\NETFLIX\\venv\\lib\\site-packages\\sklearn\\model_selection\\_split.py:700: UserWarning: The least populated class in y has only 1 members, which is less than n_splits=5.\n",
                        "  warnings.warn(\n"
                    ]
                },
                {
                    "name": "stdout",
                    "output_type": "stream",
                    "text": [
                        "Best alpha: 0.1\n",
                        "Accuracy: 0.10504361016306409\n",
                        "Precision: 0.059529069609868125\n",
                        "Recall: 0.05418680799598454\n",
                        "F1 score: 0.0559461213351196\n"
                    ]
                },
                {
                    "name": "stderr",
                    "output_type": "stream",
                    "text": [
                        "c:\\Users\\SQ-PC\\Desktop\\NETFLIX\\venv\\lib\\site-packages\\sklearn\\metrics\\_classification.py:1344: UndefinedMetricWarning: Precision is ill-defined and being set to 0.0 in labels with no predicted samples. Use `zero_division` parameter to control this behavior.\n",
                        "  _warn_prf(average, modifier, msg_start, len(result))\n",
                        "c:\\Users\\SQ-PC\\Desktop\\NETFLIX\\venv\\lib\\site-packages\\sklearn\\metrics\\_classification.py:1344: UndefinedMetricWarning: Recall is ill-defined and being set to 0.0 in labels with no true samples. Use `zero_division` parameter to control this behavior.\n",
                        "  _warn_prf(average, modifier, msg_start, len(result))\n"
                    ]
                }
            ],
            "source": [
                "# Define the range of values to search for the alpha parameter\n",
                "param_grid = {'alpha': [0.1, 0.5, 1.0, 2.0, 5.0, 10.0]}\n",
                "\n",
                "# Use grid search with cross-validation to find the best value for the alpha parameter\n",
                "clf = MultinomialNB()\n",
                "grid_search = GridSearchCV(clf, param_grid, cv=5, scoring='f1_macro')\n",
                "grid_search.fit(X_train_tfidf, y_train)\n",
                "\n",
                "# Print the best value for the alpha parameter found by grid search\n",
                "print('Best alpha:', grid_search.best_params_['alpha'])\n",
                "\n",
                "# Train a Naive Bayes classifier on the TF-IDF representation with the best alpha value\n",
                "clf = MultinomialNB(alpha=grid_search.best_params_['alpha'])\n",
                "clf.fit(X_train_tfidf, y_train)\n",
                "\n",
                "# Evaluate the performance of the trained model on the testing set using the TF-IDF representation with the best alpha value\n",
                "y_pred = clf.predict(X_test_tfidf)\n",
                "print('Accuracy:', accuracy_score(y_test, y_pred))\n",
                "print('Precision:', precision_score(y_test, y_pred, average='macro'))\n",
                "print('Recall:', recall_score(y_test, y_pred, average='macro'))\n",
                "print('F1 score:', f1_score(y_test, y_pred, average='macro'))"
            ]
        },
        {
            "cell_type": "code",
            "execution_count": 102,
            "metadata": {},
            "outputs": [
                {
                    "name": "stdout",
                    "output_type": "stream",
                    "text": [
                        "New movie predictions: [' International Movies' 'Children & Family Movies']\n"
                    ]
                }
            ],
            "source": [
                "# # Use the trained model to predict the genre of new movies based on their descriptions\n",
                "new_movie_descriptions = ['A young woman becomes the fourth wife of a wealthy lord in 19th century China.',\n",
                "                          'A young boy befriends a giant robot from outer space and embarks on a series of adventures.']\n",
                "new_movie_counts = vectorizer.transform(new_movie_descriptions)\n",
                "new_movie_predictions = clf.predict(new_movie_counts)\n",
                "print('New movie predictions:', new_movie_predictions)"
            ]
        },
        {
            "cell_type": "code",
            "execution_count": 103,
            "metadata": {},
            "outputs": [
                {
                    "name": "stdout",
                    "output_type": "stream",
                    "text": [
                        "Accuracy: 0.10011376564277588\n",
                        "Precision: 0.09546424797536505\n",
                        "Recall: 0.08482729837052373\n",
                        "F1 score: 0.08416162984737445\n"
                    ]
                },
                {
                    "name": "stderr",
                    "output_type": "stream",
                    "text": [
                        "c:\\Users\\SQ-PC\\Desktop\\NETFLIX\\venv\\lib\\site-packages\\sklearn\\metrics\\_classification.py:1344: UndefinedMetricWarning: Precision is ill-defined and being set to 0.0 in labels with no predicted samples. Use `zero_division` parameter to control this behavior.\n",
                        "  _warn_prf(average, modifier, msg_start, len(result))\n",
                        "c:\\Users\\SQ-PC\\Desktop\\NETFLIX\\venv\\lib\\site-packages\\sklearn\\metrics\\_classification.py:1344: UndefinedMetricWarning: Recall is ill-defined and being set to 0.0 in labels with no true samples. Use `zero_division` parameter to control this behavior.\n",
                        "  _warn_prf(average, modifier, msg_start, len(result))\n"
                    ]
                }
            ],
            "source": [
                "# Define the oversampler to use\n",
                "oversampler = RandomOverSampler(random_state=42)\n",
                "\n",
                "# Oversample the minority classes in the training set\n",
                "X_train_resampled, y_train_resampled = oversampler.fit_resample(X_train_tfidf, y_train)\n",
                "\n",
                "# Train a Naive Bayes classifier on the TF-IDF representation with the resampled training set\n",
                "clf = MultinomialNB(alpha=grid_search.best_params_['alpha'])\n",
                "clf.fit(X_train_resampled, y_train_resampled)\n",
                "\n",
                "# Evaluate the performance of the trained model on the testing set using the TF-IDF representation with the resampled training set\n",
                "y_pred = clf.predict(X_test_tfidf)\n",
                "print('Accuracy:', accuracy_score(y_test, y_pred))\n",
                "print('Precision:', precision_score(y_test, y_pred, average='macro'))\n",
                "print('Recall:', recall_score(y_test, y_pred, average='macro'))\n",
                "print('F1 score:', f1_score(y_test, y_pred, average='macro'))"
            ]
        },
        {
            "cell_type": "code",
            "execution_count": 104,
            "metadata": {},
            "outputs": [
                {
                    "name": "stdout",
                    "output_type": "stream",
                    "text": [
                        "New movie predictions: ['Action & Adventure' 'Children & Family Movies']\n"
                    ]
                }
            ],
            "source": [
                "# # Use the trained model to predict the genre of new movies based on their descriptions\n",
                "new_movie_descriptions = ['A young woman becomes the fourth wife of a wealthy lord in 19th century China.',\n",
                "                          'A young boy befriends a giant robot from outer space and embarks on a series of adventures.']\n",
                "new_movie_counts = vectorizer.transform(new_movie_descriptions)\n",
                "new_movie_predictions = clf.predict(new_movie_counts)\n",
                "print('New movie predictions:', new_movie_predictions)"
            ]
        }
    ],
    "metadata": {
        "kernelspec": {
            "display_name": "venv",
            "language": "python",
            "name": "python3"
        },
        "language_info": {
            "codemirror_mode": {
                "name": "ipython",
                "version": 3
            },
            "file_extension": ".py",
            "mimetype": "text/x-python",
            "name": "python",
            "nbconvert_exporter": "python",
            "pygments_lexer": "ipython3",
            "version": "3.9.8"
        },
        "orig_nbformat": 4
    },
    "nbformat": 4,
    "nbformat_minor": 2
}
